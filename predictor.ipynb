{
 "cells": [
  {
   "cell_type": "code",
   "execution_count": 2,
   "id": "3a576655-5869-4c1a-99ad-b9486c2884a4",
   "metadata": {},
   "outputs": [],
   "source": [
    "import pandas as pd\n",
    "from sklearn.ensemble import RandomForestClassifier\n",
    "from sklearn.metrics import precision_score"
   ]
  },
  {
   "cell_type": "code",
   "execution_count": 3,
   "id": "4b11184c-0edc-4a13-81a5-fd4f13948f64",
   "metadata": {},
   "outputs": [],
   "source": [
    "def make_predictions(data, predictors):\n",
    "    train = data[data['date'] <= '2024-01-01']\n",
    "    test = data[data['date'] > '2024-01-01']\n",
    "    rf = RandomForestClassifier(n_estimators = 100, min_samples_split = 5, random_state = 0)\n",
    "    rf.fit(train[predictors], train['target'])\n",
    "    preds = rf.predict(test[predictors])\n",
    "    combined = pd.DataFrame(dict(actual=test['target'], predicted = preds), index = test.index)\n",
    "    precision = precision_score(test['target'], preds)\n",
    "    return combined, precision"
   ]
  },
  {
   "cell_type": "code",
   "execution_count": 4,
   "id": "b5d141a2-bab5-4921-98a5-9deb75543014",
   "metadata": {},
   "outputs": [],
   "source": [
    "data = pd.read_csv('final_data.csv')"
   ]
  },
  {
   "cell_type": "code",
   "execution_count": 5,
   "id": "0cf338ec-17db-4439-822e-2b6f00705427",
   "metadata": {},
   "outputs": [],
   "source": [
    "predictors = data.columns[~data.columns.isin(['target', 'date', 'attendance', 'matchup', 'dist', 'gf', 'ga', 'xg', 'xga', 'poss', 'sh', 'sot', 'fk', 'pk', 'pkatt'])]"
   ]
  },
  {
   "cell_type": "code",
   "execution_count": 6,
   "id": "75f9668a-b4de-41fe-a92c-b367ef0b8aaa",
   "metadata": {},
   "outputs": [],
   "source": [
    "combined, precision = make_predictions(data, predictors)"
   ]
  }
 ],
 "metadata": {
  "kernelspec": {
   "display_name": "Python 3 (ipykernel)",
   "language": "python",
   "name": "python3"
  },
  "language_info": {
   "codemirror_mode": {
    "name": "ipython",
    "version": 3
   },
   "file_extension": ".py",
   "mimetype": "text/x-python",
   "name": "python",
   "nbconvert_exporter": "python",
   "pygments_lexer": "ipython3",
   "version": "3.10.6"
  }
 },
 "nbformat": 4,
 "nbformat_minor": 5
}
