{
 "cells": [
  {
   "cell_type": "code",
   "execution_count": 105,
   "id": "b95102b1-1c6f-46ba-a108-bcaf4b7841aa",
   "metadata": {},
   "outputs": [],
   "source": [
    "import requests\n",
    "import pandas as pd\n",
    "import time\n",
    "from bs4 import BeautifulSoup"
   ]
  },
  {
   "cell_type": "code",
   "execution_count": 106,
   "id": "bf4193e7-8644-44b4-bb67-afd3e4a6aef9",
   "metadata": {},
   "outputs": [],
   "source": [
    "years = list(range(2025, 2021, -1))"
   ]
  },
  {
   "cell_type": "code",
   "execution_count": 107,
   "id": "b817bf2a-1cae-4e96-bac0-27390bf4060d",
   "metadata": {},
   "outputs": [
    {
     "data": {
      "text/plain": [
       "[2025, 2024, 2023, 2022]"
      ]
     },
     "execution_count": 107,
     "metadata": {},
     "output_type": "execute_result"
    }
   ],
   "source": [
    "years"
   ]
  },
  {
   "cell_type": "code",
   "execution_count": 108,
   "id": "26edf77e-e95b-4cf0-b86c-61c20a000902",
   "metadata": {},
   "outputs": [],
   "source": [
    "all_matches = []"
   ]
  },
  {
   "cell_type": "code",
   "execution_count": 109,
   "id": "237443e7-63ae-40c5-ba23-2bd11c3dff34",
   "metadata": {},
   "outputs": [],
   "source": [
    "standings_url = 'https://fbref.com/en/comps/9/Premier-League-Stats'"
   ]
  },
  {
   "cell_type": "code",
   "execution_count": 110,
   "id": "0e404635-731e-466f-b5d6-2dc93c32fa4a",
   "metadata": {},
   "outputs": [
    {
     "ename": "IndexError",
     "evalue": "list index out of range",
     "output_type": "error",
     "traceback": [
      "\u001b[0;31m---------------------------------------------------------------------------\u001b[0m",
      "\u001b[0;31mIndexError\u001b[0m                                Traceback (most recent call last)",
      "Cell \u001b[0;32mIn[110], line 4\u001b[0m\n\u001b[1;32m      2\u001b[0m data \u001b[38;5;241m=\u001b[39m requests\u001b[38;5;241m.\u001b[39mget(standings_url)\n\u001b[1;32m      3\u001b[0m soup \u001b[38;5;241m=\u001b[39m BeautifulSoup(data\u001b[38;5;241m.\u001b[39mtext)\n\u001b[0;32m----> 4\u001b[0m standings_table \u001b[38;5;241m=\u001b[39m \u001b[43msoup\u001b[49m\u001b[38;5;241;43m.\u001b[39;49m\u001b[43mselect\u001b[49m\u001b[43m(\u001b[49m\u001b[38;5;124;43m'\u001b[39;49m\u001b[38;5;124;43mtable.stats_table\u001b[39;49m\u001b[38;5;124;43m'\u001b[39;49m\u001b[43m)\u001b[49m\u001b[43m[\u001b[49m\u001b[38;5;241;43m0\u001b[39;49m\u001b[43m]\u001b[49m\n\u001b[1;32m      5\u001b[0m links \u001b[38;5;241m=\u001b[39m [link\u001b[38;5;241m.\u001b[39mget(\u001b[38;5;124m'\u001b[39m\u001b[38;5;124mhref\u001b[39m\u001b[38;5;124m'\u001b[39m) \u001b[38;5;28;01mfor\u001b[39;00m link \u001b[38;5;129;01min\u001b[39;00m standings_table\u001b[38;5;241m.\u001b[39mfind_all(\u001b[38;5;124m'\u001b[39m\u001b[38;5;124ma\u001b[39m\u001b[38;5;124m'\u001b[39m)]\n\u001b[1;32m      6\u001b[0m links \u001b[38;5;241m=\u001b[39m [link \u001b[38;5;28;01mfor\u001b[39;00m link \u001b[38;5;129;01min\u001b[39;00m links \u001b[38;5;28;01mif\u001b[39;00m \u001b[38;5;124m'\u001b[39m\u001b[38;5;124m/squads/\u001b[39m\u001b[38;5;124m'\u001b[39m \u001b[38;5;129;01min\u001b[39;00m link]\n",
      "\u001b[0;31mIndexError\u001b[0m: list index out of range"
     ]
    }
   ],
   "source": [
    "for year in years:\n",
    "    data = requests.get(standings_url)\n",
    "    soup = BeautifulSoup(data.text)\n",
    "    standings_table = soup.select('table.stats_table')[0]\n",
    "    links = [link.get('href') for link in standings_table.find_all('a')]\n",
    "    links = [link for link in links if '/squads/' in link]\n",
    "    team_urls = [f'https://fbref.com{link}' for link in links]\n",
    "    prev_season = soup.select('a.prev')[0].get('href')\n",
    "    standings_url = f'https://fbref.com{prev_season}'\n",
    "    for url in team_urls:\n",
    "        team_name = url.split('/')[-1].replace('-Stats', '').replace('-', ' ')\n",
    "        data = requests.get(url)\n",
    "        matches = pd.read_html(data.text, match = \"Scores & Fixtures \")[0]\n",
    "        soup = BeautifulSoup(data.text)\n",
    "        links = [link.get('href') for link in soup.find_all('a')]\n",
    "        links = [link for link in links if link and 'all_comps/shooting/' in link]\n",
    "        data = requests.get(f'https://fbref.com{links[0]}')\n",
    "        shooting = pd.read_html(data.text, match = 'Shooting')[0]\n",
    "        shooting.columns = shooting.columns.droplevel()\n",
    "\n",
    "        try:\n",
    "            team_data = matches.merge(shooting[['Date', 'Dist', 'Sh', 'SoT', 'FK', 'PK', 'PKatt']], on =\"Date\")\n",
    "        except ValueError:\n",
    "            continue\n",
    "        team_data = team_data[team_data['Comp']=='Premier League']\n",
    "        team_data['Season'] = year\n",
    "        team_data['Team'] = team_name\n",
    "        all_matches.append(team_data)\n",
    "        time.sleep(20)"
   ]
  },
  {
   "cell_type": "code",
   "execution_count": 104,
   "id": "46690f8b-6a19-4ac5-a7fb-b43a80d9c7e8",
   "metadata": {},
   "outputs": [
    {
     "name": "stdout",
     "output_type": "stream",
     "text": [
      "<Response [429]>\n"
     ]
    }
   ],
   "source": [
    "url = 'https://fbref.com/en/comps/9/Premier-League-Stats'\n",
    "\n",
    "response=requests.get(url)\n",
    "\n",
    "print(response)"
   ]
  },
  {
   "cell_type": "code",
   "execution_count": null,
   "id": "a58137aa-19f4-4e2c-bbfa-fc895cf8e4d8",
   "metadata": {},
   "outputs": [],
   "source": [
    "matches_df = pd.concat(all_matches)\n",
    "matches_df.columns = [c.lower() for c in matches_df.columns]"
   ]
  },
  {
   "cell_type": "code",
   "execution_count": null,
   "id": "4afc3389-d2e3-40fb-a2fb-8eccf1626462",
   "metadata": {},
   "outputs": [],
   "source": [
    "matches_df.to_csv('matches.csv')"
   ]
  }
 ],
 "metadata": {
  "kernelspec": {
   "display_name": "Python 3 (ipykernel)",
   "language": "python",
   "name": "python3"
  },
  "language_info": {
   "codemirror_mode": {
    "name": "ipython",
    "version": 3
   },
   "file_extension": ".py",
   "mimetype": "text/x-python",
   "name": "python",
   "nbconvert_exporter": "python",
   "pygments_lexer": "ipython3",
   "version": "3.10.6"
  }
 },
 "nbformat": 4,
 "nbformat_minor": 5
}
